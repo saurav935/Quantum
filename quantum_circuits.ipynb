{
  "nbformat": 4,
  "nbformat_minor": 0,
  "metadata": {
    "colab": {
      "provenance": []
    },
    "kernelspec": {
      "name": "python3",
      "display_name": "Python 3"
    },
    "language_info": {
      "name": "python"
    }
  },
  "cells": [
    {
      "cell_type": "markdown",
      "source": [
        "**Installing Cirq**"
      ],
      "metadata": {
        "id": "dBQv9JkpL9Dw"
      }
    },
    {
      "cell_type": "code",
      "execution_count": 1,
      "metadata": {
        "colab": {
          "base_uri": "https://localhost:8080/",
          "height": 1000
        },
        "id": "jLSobW8RI2Gn",
        "outputId": "c10abe6c-fb35-4ece-87f2-65afdb9a129b"
      },
      "outputs": [
        {
          "output_type": "stream",
          "name": "stdout",
          "text": [
            "Looking in indexes: https://pypi.org/simple, https://us-python.pkg.dev/colab-wheels/public/simple/\n",
            "Collecting cirq\n",
            "  Downloading cirq-1.0.0-py3-none-any.whl (7.8 kB)\n",
            "Collecting cirq-web==1.0.0\n",
            "  Downloading cirq_web-1.0.0-py3-none-any.whl (594 kB)\n",
            "\u001b[K     |████████████████████████████████| 594 kB 4.9 MB/s \n",
            "\u001b[?25hCollecting cirq-core==1.0.0\n",
            "  Downloading cirq_core-1.0.0-py3-none-any.whl (1.8 MB)\n",
            "\u001b[K     |████████████████████████████████| 1.8 MB 62.0 MB/s \n",
            "\u001b[?25hCollecting cirq-pasqal==1.0.0\n",
            "  Downloading cirq_pasqal-1.0.0-py3-none-any.whl (31 kB)\n",
            "Collecting cirq-rigetti==1.0.0\n",
            "  Downloading cirq_rigetti-1.0.0-py3-none-any.whl (66 kB)\n",
            "\u001b[K     |████████████████████████████████| 66 kB 4.6 MB/s \n",
            "\u001b[?25hCollecting cirq-ionq==1.0.0\n",
            "  Downloading cirq_ionq-1.0.0-py3-none-any.whl (57 kB)\n",
            "\u001b[K     |████████████████████████████████| 57 kB 2.8 MB/s \n",
            "\u001b[?25hCollecting cirq-google==1.0.0\n",
            "  Downloading cirq_google-1.0.0-py3-none-any.whl (576 kB)\n",
            "\u001b[K     |████████████████████████████████| 576 kB 48.5 MB/s \n",
            "\u001b[?25hCollecting cirq-aqt==1.0.0\n",
            "  Downloading cirq_aqt-1.0.0-py3-none-any.whl (27 kB)\n",
            "Requirement already satisfied: requests~=2.18 in /usr/local/lib/python3.7/dist-packages (from cirq-aqt==1.0.0->cirq) (2.23.0)\n",
            "Requirement already satisfied: tqdm in /usr/local/lib/python3.7/dist-packages (from cirq-core==1.0.0->cirq) (4.64.1)\n",
            "Requirement already satisfied: pandas in /usr/local/lib/python3.7/dist-packages (from cirq-core==1.0.0->cirq) (1.3.5)\n",
            "Requirement already satisfied: sympy in /usr/local/lib/python3.7/dist-packages (from cirq-core==1.0.0->cirq) (1.7.1)\n",
            "Requirement already satisfied: typing-extensions in /usr/local/lib/python3.7/dist-packages (from cirq-core==1.0.0->cirq) (4.1.1)\n",
            "Requirement already satisfied: matplotlib~=3.0 in /usr/local/lib/python3.7/dist-packages (from cirq-core==1.0.0->cirq) (3.2.2)\n",
            "Collecting duet~=0.2.7\n",
            "  Downloading duet-0.2.7-py3-none-any.whl (28 kB)\n",
            "Requirement already satisfied: scipy in /usr/local/lib/python3.7/dist-packages (from cirq-core==1.0.0->cirq) (1.7.3)\n",
            "Collecting backports.cached-property~=1.0.1\n",
            "  Downloading backports.cached_property-1.0.2-py3-none-any.whl (6.1 kB)\n",
            "Requirement already satisfied: numpy~=1.16 in /usr/local/lib/python3.7/dist-packages (from cirq-core==1.0.0->cirq) (1.21.6)\n",
            "Requirement already satisfied: networkx~=2.4 in /usr/local/lib/python3.7/dist-packages (from cirq-core==1.0.0->cirq) (2.6.3)\n",
            "Requirement already satisfied: sortedcontainers~=2.0 in /usr/local/lib/python3.7/dist-packages (from cirq-core==1.0.0->cirq) (2.4.0)\n",
            "Requirement already satisfied: protobuf<4,>=3.15.0 in /usr/local/lib/python3.7/dist-packages (from cirq-google==1.0.0->cirq) (3.17.3)\n",
            "Requirement already satisfied: google-api-core[grpc]<2.0.0dev,>=1.14.0 in /usr/local/lib/python3.7/dist-packages (from cirq-google==1.0.0->cirq) (1.31.6)\n",
            "Collecting proto-plus>=1.20.0\n",
            "  Downloading proto_plus-1.22.1-py3-none-any.whl (47 kB)\n",
            "\u001b[K     |████████████████████████████████| 47 kB 5.0 MB/s \n",
            "\u001b[?25hCollecting pyquil>=3.0.0\n",
            "  Downloading pyquil-3.3.2-py3-none-any.whl (221 kB)\n",
            "\u001b[K     |████████████████████████████████| 221 kB 58.4 MB/s \n",
            "\u001b[?25hCollecting typing-extensions\n",
            "  Downloading typing_extensions-3.10.0.0-py3-none-any.whl (26 kB)\n",
            "Requirement already satisfied: setuptools>=40.3.0 in /usr/local/lib/python3.7/dist-packages (from google-api-core[grpc]<2.0.0dev,>=1.14.0->cirq-google==1.0.0->cirq) (57.4.0)\n",
            "Requirement already satisfied: six>=1.13.0 in /usr/local/lib/python3.7/dist-packages (from google-api-core[grpc]<2.0.0dev,>=1.14.0->cirq-google==1.0.0->cirq) (1.15.0)\n",
            "Requirement already satisfied: pytz in /usr/local/lib/python3.7/dist-packages (from google-api-core[grpc]<2.0.0dev,>=1.14.0->cirq-google==1.0.0->cirq) (2022.4)\n",
            "Requirement already satisfied: googleapis-common-protos<2.0dev,>=1.6.0 in /usr/local/lib/python3.7/dist-packages (from google-api-core[grpc]<2.0.0dev,>=1.14.0->cirq-google==1.0.0->cirq) (1.56.4)\n",
            "Requirement already satisfied: packaging>=14.3 in /usr/local/lib/python3.7/dist-packages (from google-api-core[grpc]<2.0.0dev,>=1.14.0->cirq-google==1.0.0->cirq) (21.3)\n",
            "Requirement already satisfied: google-auth<2.0dev,>=1.25.0 in /usr/local/lib/python3.7/dist-packages (from google-api-core[grpc]<2.0.0dev,>=1.14.0->cirq-google==1.0.0->cirq) (1.35.0)\n",
            "Requirement already satisfied: grpcio<2.0dev,>=1.29.0 in /usr/local/lib/python3.7/dist-packages (from google-api-core[grpc]<2.0.0dev,>=1.14.0->cirq-google==1.0.0->cirq) (1.49.1)\n",
            "Requirement already satisfied: pyasn1-modules>=0.2.1 in /usr/local/lib/python3.7/dist-packages (from google-auth<2.0dev,>=1.25.0->google-api-core[grpc]<2.0.0dev,>=1.14.0->cirq-google==1.0.0->cirq) (0.2.8)\n",
            "Requirement already satisfied: rsa<5,>=3.1.4 in /usr/local/lib/python3.7/dist-packages (from google-auth<2.0dev,>=1.25.0->google-api-core[grpc]<2.0.0dev,>=1.14.0->cirq-google==1.0.0->cirq) (4.9)\n",
            "Requirement already satisfied: cachetools<5.0,>=2.0.0 in /usr/local/lib/python3.7/dist-packages (from google-auth<2.0dev,>=1.25.0->google-api-core[grpc]<2.0.0dev,>=1.14.0->cirq-google==1.0.0->cirq) (4.2.4)\n",
            "Requirement already satisfied: kiwisolver>=1.0.1 in /usr/local/lib/python3.7/dist-packages (from matplotlib~=3.0->cirq-core==1.0.0->cirq) (1.4.4)\n",
            "Requirement already satisfied: cycler>=0.10 in /usr/local/lib/python3.7/dist-packages (from matplotlib~=3.0->cirq-core==1.0.0->cirq) (0.11.0)\n",
            "Requirement already satisfied: python-dateutil>=2.1 in /usr/local/lib/python3.7/dist-packages (from matplotlib~=3.0->cirq-core==1.0.0->cirq) (2.8.2)\n",
            "Requirement already satisfied: pyparsing!=2.0.4,!=2.1.2,!=2.1.6,>=2.0.1 in /usr/local/lib/python3.7/dist-packages (from matplotlib~=3.0->cirq-core==1.0.0->cirq) (3.0.9)\n",
            "Collecting protobuf<4,>=3.15.0\n",
            "  Downloading protobuf-3.20.3-cp37-cp37m-manylinux_2_5_x86_64.manylinux1_x86_64.whl (1.0 MB)\n",
            "\u001b[K     |████████████████████████████████| 1.0 MB 61.0 MB/s \n",
            "\u001b[?25hRequirement already satisfied: pyasn1<0.5.0,>=0.4.6 in /usr/local/lib/python3.7/dist-packages (from pyasn1-modules>=0.2.1->google-auth<2.0dev,>=1.25.0->google-api-core[grpc]<2.0.0dev,>=1.14.0->cirq-google==1.0.0->cirq) (0.4.8)\n",
            "Requirement already satisfied: importlib-metadata<5,>=3.7.3 in /usr/local/lib/python3.7/dist-packages (from pyquil>=3.0.0->cirq-rigetti==1.0.0->cirq) (4.13.0)\n",
            "Collecting rpcq<4.0.0,>=3.10.0\n",
            "  Downloading rpcq-3.10.0.tar.gz (44 kB)\n",
            "\u001b[K     |████████████████████████████████| 44 kB 2.4 MB/s \n",
            "\u001b[?25hCollecting types-retry<0.10.0,>=0.9.9\n",
            "  Downloading types_retry-0.9.9-py3-none-any.whl (2.4 kB)\n",
            "Collecting types-python-dateutil<3.0.0,>=2.8.19\n",
            "  Downloading types_python_dateutil-2.8.19.2-py3-none-any.whl (8.1 kB)\n",
            "Collecting qcs-api-client<0.22.0,>=0.21.0\n",
            "  Downloading qcs_api_client-0.21.2-py3-none-any.whl (147 kB)\n",
            "\u001b[K     |████████████████████████████████| 147 kB 36.2 MB/s \n",
            "\u001b[?25hCollecting lark<0.12.0,>=0.11.1\n",
            "  Downloading lark-0.11.3.tar.gz (229 kB)\n",
            "\u001b[K     |████████████████████████████████| 229 kB 50.0 MB/s \n",
            "\u001b[?25hCollecting retry<0.10.0,>=0.9.2\n",
            "  Downloading retry-0.9.2-py2.py3-none-any.whl (8.0 kB)\n",
            "Requirement already satisfied: zipp>=0.5 in /usr/local/lib/python3.7/dist-packages (from importlib-metadata<5,>=3.7.3->pyquil>=3.0.0->cirq-rigetti==1.0.0->cirq) (3.9.0)\n",
            "Requirement already satisfied: toml<0.11.0,>=0.10.2 in /usr/local/lib/python3.7/dist-packages (from qcs-api-client<0.22.0,>=0.21.0->pyquil>=3.0.0->cirq-rigetti==1.0.0->cirq) (0.10.2)\n",
            "Collecting iso8601<2.0.0,>=1.0.2\n",
            "  Downloading iso8601-1.1.0-py3-none-any.whl (9.9 kB)\n",
            "Collecting httpx<0.24.0,>=0.23.0\n",
            "  Downloading httpx-0.23.0-py3-none-any.whl (84 kB)\n",
            "\u001b[K     |████████████████████████████████| 84 kB 3.2 MB/s \n",
            "\u001b[?25hRequirement already satisfied: pydantic<2.0.0,>=1.7.2 in /usr/local/lib/python3.7/dist-packages (from qcs-api-client<0.22.0,>=0.21.0->pyquil>=3.0.0->cirq-rigetti==1.0.0->cirq) (1.9.2)\n",
            "Collecting retrying<2.0.0,>=1.3.3\n",
            "  Downloading retrying-1.3.3.tar.gz (10 kB)\n",
            "Collecting rfc3339<7.0,>=6.2\n",
            "  Downloading rfc3339-6.2-py3-none-any.whl (5.5 kB)\n",
            "Collecting attrs<21.0.0,>=20.1.0\n",
            "  Downloading attrs-20.3.0-py2.py3-none-any.whl (49 kB)\n",
            "\u001b[K     |████████████████████████████████| 49 kB 5.5 MB/s \n",
            "\u001b[?25hCollecting PyJWT<3.0.0,>=2.4.0\n",
            "  Downloading PyJWT-2.6.0-py3-none-any.whl (20 kB)\n",
            "Collecting rfc3986[idna2008]<2,>=1.3\n",
            "  Downloading rfc3986-1.5.0-py2.py3-none-any.whl (31 kB)\n",
            "Collecting sniffio\n",
            "  Downloading sniffio-1.3.0-py3-none-any.whl (10 kB)\n",
            "Collecting httpcore<0.16.0,>=0.15.0\n",
            "  Downloading httpcore-0.15.0-py3-none-any.whl (68 kB)\n",
            "\u001b[K     |████████████████████████████████| 68 kB 6.1 MB/s \n",
            "\u001b[?25hRequirement already satisfied: certifi in /usr/local/lib/python3.7/dist-packages (from httpx<0.24.0,>=0.23.0->qcs-api-client<0.22.0,>=0.21.0->pyquil>=3.0.0->cirq-rigetti==1.0.0->cirq) (2022.9.24)\n",
            "Collecting anyio==3.*\n",
            "  Downloading anyio-3.6.2-py3-none-any.whl (80 kB)\n",
            "\u001b[K     |████████████████████████████████| 80 kB 8.8 MB/s \n",
            "\u001b[?25hCollecting h11<0.13,>=0.11\n",
            "  Downloading h11-0.12.0-py3-none-any.whl (54 kB)\n",
            "\u001b[K     |████████████████████████████████| 54 kB 3.2 MB/s \n",
            "\u001b[?25hRequirement already satisfied: idna>=2.8 in /usr/local/lib/python3.7/dist-packages (from anyio==3.*->httpcore<0.16.0,>=0.15.0->httpx<0.24.0,>=0.23.0->qcs-api-client<0.22.0,>=0.21.0->pyquil>=3.0.0->cirq-rigetti==1.0.0->cirq) (2.10)\n",
            "Requirement already satisfied: chardet<4,>=3.0.2 in /usr/local/lib/python3.7/dist-packages (from requests~=2.18->cirq-aqt==1.0.0->cirq) (3.0.4)\n",
            "Requirement already satisfied: urllib3!=1.25.0,!=1.25.1,<1.26,>=1.21.1 in /usr/local/lib/python3.7/dist-packages (from requests~=2.18->cirq-aqt==1.0.0->cirq) (1.24.3)\n",
            "Requirement already satisfied: py<2.0.0,>=1.4.26 in /usr/local/lib/python3.7/dist-packages (from retry<0.10.0,>=0.9.2->pyquil>=3.0.0->cirq-rigetti==1.0.0->cirq) (1.11.0)\n",
            "Requirement already satisfied: decorator>=3.4.2 in /usr/local/lib/python3.7/dist-packages (from retry<0.10.0,>=0.9.2->pyquil>=3.0.0->cirq-rigetti==1.0.0->cirq) (4.4.2)\n",
            "Collecting msgpack<1.0,>=0.6\n",
            "  Downloading msgpack-0.6.2-cp37-cp37m-manylinux1_x86_64.whl (243 kB)\n",
            "\u001b[K     |████████████████████████████████| 243 kB 69.4 MB/s \n",
            "\u001b[?25hCollecting python-rapidjson\n",
            "  Downloading python_rapidjson-1.9-cp37-cp37m-manylinux_2_17_x86_64.manylinux2014_x86_64.whl (1.6 MB)\n",
            "\u001b[K     |████████████████████████████████| 1.6 MB 46.3 MB/s \n",
            "\u001b[?25hRequirement already satisfied: pyzmq>=17 in /usr/local/lib/python3.7/dist-packages (from rpcq<4.0.0,>=3.10.0->pyquil>=3.0.0->cirq-rigetti==1.0.0->cirq) (23.2.1)\n",
            "Collecting ruamel.yaml\n",
            "  Downloading ruamel.yaml-0.17.21-py3-none-any.whl (109 kB)\n",
            "\u001b[K     |████████████████████████████████| 109 kB 55.5 MB/s \n",
            "\u001b[?25hCollecting ruamel.yaml.clib>=0.2.6\n",
            "  Downloading ruamel.yaml.clib-0.2.7-cp37-cp37m-manylinux_2_17_x86_64.manylinux2014_x86_64.manylinux_2_24_x86_64.whl (500 kB)\n",
            "\u001b[K     |████████████████████████████████| 500 kB 68.3 MB/s \n",
            "\u001b[?25hRequirement already satisfied: mpmath>=0.19 in /usr/local/lib/python3.7/dist-packages (from sympy->cirq-core==1.0.0->cirq) (1.2.1)\n",
            "Building wheels for collected packages: lark, retrying, rpcq\n",
            "  Building wheel for lark (setup.py) ... \u001b[?25l\u001b[?25hdone\n",
            "  Created wheel for lark: filename=lark-0.11.3-py2.py3-none-any.whl size=99648 sha256=0011d266949cd23916fe57b0c94e20f27597eb41d6efca793f527c1b064f9bff\n",
            "  Stored in directory: /root/.cache/pip/wheels/d7/61/3c/9ac365f55966367be8d77dbeb21a3ddece3c466e660121e8d6\n",
            "  Building wheel for retrying (setup.py) ... \u001b[?25l\u001b[?25hdone\n",
            "  Created wheel for retrying: filename=retrying-1.3.3-py3-none-any.whl size=11447 sha256=e15d0b2655bf50b8050acd9e75bceb2234d62dd9f6cb2224f0f9dd29ac28b843\n",
            "  Stored in directory: /root/.cache/pip/wheels/f9/8d/8d/f6af3f7f9eea3553bc2fe6d53e4b287dad18b06a861ac56ddf\n",
            "  Building wheel for rpcq (setup.py) ... \u001b[?25l\u001b[?25hdone\n",
            "  Created wheel for rpcq: filename=rpcq-3.10.0-py3-none-any.whl size=45969 sha256=9ae7d491db0c9fa30d639ed7190d045827b84e93e35c1c5d6e057ffbe83870e8\n",
            "  Stored in directory: /root/.cache/pip/wheels/ff/44/60/4b8ce5700839431ee56820af595a2ac0e013a180232e5afba6\n",
            "Successfully built lark retrying rpcq\n",
            "Installing collected packages: typing-extensions, sniffio, rfc3986, h11, anyio, ruamel.yaml.clib, protobuf, httpcore, ruamel.yaml, rfc3339, retrying, python-rapidjson, PyJWT, msgpack, iso8601, httpx, attrs, types-retry, types-python-dateutil, rpcq, retry, qcs-api-client, lark, duet, backports.cached-property, pyquil, proto-plus, cirq-core, cirq-web, cirq-rigetti, cirq-pasqal, cirq-ionq, cirq-google, cirq-aqt, cirq\n",
            "  Attempting uninstall: typing-extensions\n",
            "    Found existing installation: typing-extensions 4.1.1\n",
            "    Uninstalling typing-extensions-4.1.1:\n",
            "      Successfully uninstalled typing-extensions-4.1.1\n",
            "  Attempting uninstall: protobuf\n",
            "    Found existing installation: protobuf 3.17.3\n",
            "    Uninstalling protobuf-3.17.3:\n",
            "      Successfully uninstalled protobuf-3.17.3\n",
            "  Attempting uninstall: msgpack\n",
            "    Found existing installation: msgpack 1.0.4\n",
            "    Uninstalling msgpack-1.0.4:\n",
            "      Successfully uninstalled msgpack-1.0.4\n",
            "  Attempting uninstall: attrs\n",
            "    Found existing installation: attrs 22.1.0\n",
            "    Uninstalling attrs-22.1.0:\n",
            "      Successfully uninstalled attrs-22.1.0\n",
            "\u001b[31mERROR: pip's dependency resolver does not currently take into account all the packages that are installed. This behaviour is the source of the following dependency conflicts.\n",
            "tensorflow 2.9.2 requires protobuf<3.20,>=3.9.2, but you have protobuf 3.20.3 which is incompatible.\n",
            "tensorboard 2.9.1 requires protobuf<3.20,>=3.9.2, but you have protobuf 3.20.3 which is incompatible.\u001b[0m\n",
            "Successfully installed PyJWT-2.6.0 anyio-3.6.2 attrs-20.3.0 backports.cached-property-1.0.2 cirq-1.0.0 cirq-aqt-1.0.0 cirq-core-1.0.0 cirq-google-1.0.0 cirq-ionq-1.0.0 cirq-pasqal-1.0.0 cirq-rigetti-1.0.0 cirq-web-1.0.0 duet-0.2.7 h11-0.12.0 httpcore-0.15.0 httpx-0.23.0 iso8601-1.1.0 lark-0.11.3 msgpack-0.6.2 proto-plus-1.22.1 protobuf-3.20.3 pyquil-3.3.2 python-rapidjson-1.9 qcs-api-client-0.21.2 retry-0.9.2 retrying-1.3.3 rfc3339-6.2 rfc3986-1.5.0 rpcq-3.10.0 ruamel.yaml-0.17.21 ruamel.yaml.clib-0.2.7 sniffio-1.3.0 types-python-dateutil-2.8.19.2 types-retry-0.9.9 typing-extensions-3.10.0.0\n"
          ]
        },
        {
          "output_type": "display_data",
          "data": {
            "application/vnd.colab-display-data+json": {
              "pip_warning": {
                "packages": [
                  "google",
                  "typing_extensions"
                ]
              }
            }
          },
          "metadata": {}
        }
      ],
      "source": [
        "!pip install cirq"
      ]
    },
    {
      "cell_type": "code",
      "source": [
        "import cirq"
      ],
      "metadata": {
        "id": "qAj0-jmAI5go"
      },
      "execution_count": 1,
      "outputs": []
    },
    {
      "cell_type": "markdown",
      "source": [
        "**Initializing qubits one by one**"
      ],
      "metadata": {
        "id": "NHqgNWG6JNgY"
      }
    },
    {
      "cell_type": "code",
      "source": [
        "qubit_0 = cirq.LineQubit(0)           # Qubit number 1\n",
        "qubit_1 = cirq.LineQubit(1)           # Qubit number 2\n",
        "qubit_2 = cirq.LineQubit(2)           # Qubit number 3\n",
        "qubit_3 = cirq.LineQubit(3)           # Qubit number 4\n",
        "qubit_4 = cirq.LineQubit(4)           # Qubit number 5\n",
        "qubit_5 = cirq.LineQubit(5)           # Qubit number 6"
      ],
      "metadata": {
        "id": "-pQf5MJWI_Ha"
      },
      "execution_count": 2,
      "outputs": []
    },
    {
      "cell_type": "code",
      "source": [
        "print(qubit_0)"
      ],
      "metadata": {
        "colab": {
          "base_uri": "https://localhost:8080/"
        },
        "id": "yuu6SmKgI_oP",
        "outputId": "24399ebd-1d13-4b5c-b0bc-79446934de16"
      },
      "execution_count": 3,
      "outputs": [
        {
          "output_type": "stream",
          "name": "stdout",
          "text": [
            "q(0)\n"
          ]
        }
      ]
    },
    {
      "cell_type": "code",
      "source": [
        "total_qubits = cirq.LineQubit.range(6)\n",
        "\n",
        "print(total_qubits)"
      ],
      "metadata": {
        "colab": {
          "base_uri": "https://localhost:8080/"
        },
        "id": "BmFBvfFxI_v_",
        "outputId": "a0e523fb-cb62-4b38-d3e9-c4d8c7209603"
      },
      "execution_count": 4,
      "outputs": [
        {
          "output_type": "stream",
          "name": "stdout",
          "text": [
            "[cirq.LineQubit(0), cirq.LineQubit(1), cirq.LineQubit(2), cirq.LineQubit(3), cirq.LineQubit(4), cirq.LineQubit(5)]\n"
          ]
        }
      ]
    },
    {
      "cell_type": "markdown",
      "source": [
        "**Creating GridQubits**"
      ],
      "metadata": {
        "id": "YYJxfhG6Jiyd"
      }
    },
    {
      "cell_type": "code",
      "source": [
        "grid_qubit = cirq.GridQubit(1,2)\n",
        "\n",
        "print(grid_qubit)"
      ],
      "metadata": {
        "colab": {
          "base_uri": "https://localhost:8080/"
        },
        "id": "VYl2x9qcJARv",
        "outputId": "ec818bab-7a0b-4ff0-d8bd-8913d665228b"
      },
      "execution_count": 5,
      "outputs": [
        {
          "output_type": "stream",
          "name": "stdout",
          "text": [
            "q(1, 2)\n"
          ]
        }
      ]
    },
    {
      "cell_type": "markdown",
      "source": [
        "**Creating qubits in the form of rectangular grid**"
      ],
      "metadata": {
        "id": "_phn2MayJ3bN"
      }
    },
    {
      "cell_type": "code",
      "source": [
        "rectangular_grid_qubits = cirq.GridQubit.rect(rows=4, cols=3)\n",
        "\n",
        "print(rectangular_grid_qubits)"
      ],
      "metadata": {
        "colab": {
          "base_uri": "https://localhost:8080/"
        },
        "id": "sO3JiKyNJAZm",
        "outputId": "6d02796f-d2a7-4cb6-f8ed-4527e99b1001"
      },
      "execution_count": 6,
      "outputs": [
        {
          "output_type": "stream",
          "name": "stdout",
          "text": [
            "[cirq.GridQubit(0, 0), cirq.GridQubit(0, 1), cirq.GridQubit(0, 2), cirq.GridQubit(1, 0), cirq.GridQubit(1, 1), cirq.GridQubit(1, 2), cirq.GridQubit(2, 0), cirq.GridQubit(2, 1), cirq.GridQubit(2, 2), cirq.GridQubit(3, 0), cirq.GridQubit(3, 1), cirq.GridQubit(3, 2)]\n"
          ]
        }
      ]
    },
    {
      "cell_type": "markdown",
      "source": [
        "**Creating qubits in a square grid shape**"
      ],
      "metadata": {
        "id": "Elb0PYdMKQ36"
      }
    },
    {
      "cell_type": "code",
      "source": [
        "square_grid_qubits = cirq.GridQubit.square(2)   # 2 is the size of the square\n",
        "\n",
        "print(square_grid_qubits)"
      ],
      "metadata": {
        "colab": {
          "base_uri": "https://localhost:8080/"
        },
        "id": "I8Cx1YWFKago",
        "outputId": "34272b19-c11f-4920-a77e-7afb266cc265"
      },
      "execution_count": 7,
      "outputs": [
        {
          "output_type": "stream",
          "name": "stdout",
          "text": [
            "[cirq.GridQubit(0, 0), cirq.GridQubit(0, 1), cirq.GridQubit(1, 0), cirq.GridQubit(1, 1)]\n"
          ]
        }
      ]
    },
    {
      "cell_type": "markdown",
      "source": [
        "**Initialising the last qubit with state 1 and applying Hadamard gates to all qubits**"
      ],
      "metadata": {
        "id": "Ag_UEH2OKfVA"
      }
    },
    {
      "cell_type": "code",
      "source": [
        "circuit = cirq.Circuit(cirq.X(total_qubits[5]))\n",
        "\n",
        "circuit.append(cirq.H(total_qubits[0]))\n",
        "\n",
        "circuit.append(cirq.H(total_qubits[1]))\n",
        "\n",
        "circuit.append(cirq.H(total_qubits[2]))\n",
        "\n",
        "circuit.append(cirq.H(total_qubits[3]))\n",
        "\n",
        "circuit.append(cirq.H(total_qubits[4]))\n",
        "\n",
        "circuit.append(cirq.H(total_qubits[5]))\n",
        "\n",
        "print(circuit)"
      ],
      "metadata": {
        "colab": {
          "base_uri": "https://localhost:8080/"
        },
        "id": "lRSa2uRyKlVe",
        "outputId": "d931cd22-02f8-4ef1-d673-e92ea3453a5a"
      },
      "execution_count": 8,
      "outputs": [
        {
          "output_type": "stream",
          "name": "stdout",
          "text": [
            "0: ───H───────\n",
            "\n",
            "1: ───H───────\n",
            "\n",
            "2: ───H───────\n",
            "\n",
            "3: ───H───────\n",
            "\n",
            "4: ───H───────\n",
            "\n",
            "5: ───X───H───\n"
          ]
        }
      ]
    },
    {
      "cell_type": "markdown",
      "source": [
        "**Doing the same step above, but in an efficient manner**"
      ],
      "metadata": {
        "id": "4X6MiHV0Kt9y"
      }
    },
    {
      "cell_type": "code",
      "source": [
        "# circuit = cirq.Circuit(cirq.X(total_qubits[5]))\n",
        "# for qubit in total_qubits:\n",
        "#     circuit.append(cirq.H(qubit))\n",
        "    \n",
        "# print(circuit)"
      ],
      "metadata": {
        "id": "kNPeQoEDKnRS"
      },
      "execution_count": 9,
      "outputs": []
    },
    {
      "cell_type": "markdown",
      "source": [
        "**Applying the CNOT gates**"
      ],
      "metadata": {
        "id": "XL1WwdBlK4Ey"
      }
    },
    {
      "cell_type": "code",
      "source": [
        "circuit.append(cirq.CNOT(total_qubits[4], total_qubits[5]))\n",
        "\n",
        "circuit.append(cirq.CNOT(total_qubits[1], total_qubits[5]))\n",
        "\n",
        "circuit.append(cirq.CNOT(total_qubits[0], total_qubits[5]))\n",
        "\n",
        "print(circuit)"
      ],
      "metadata": {
        "colab": {
          "base_uri": "https://localhost:8080/"
        },
        "id": "EA-1IURqK1VL",
        "outputId": "50aca969-9e42-4ff1-f7b4-36ebcb8ef632"
      },
      "execution_count": 10,
      "outputs": [
        {
          "output_type": "stream",
          "name": "stdout",
          "text": [
            "0: ───H───────────────@───\n",
            "                      │\n",
            "1: ───H───────────@───┼───\n",
            "                  │   │\n",
            "2: ───H───────────┼───┼───\n",
            "                  │   │\n",
            "3: ───H───────────┼───┼───\n",
            "                  │   │\n",
            "4: ───H───────@───┼───┼───\n",
            "              │   │   │\n",
            "5: ───X───H───X───X───X───\n"
          ]
        }
      ]
    },
    {
      "cell_type": "markdown",
      "source": [
        "Applying Hadamard gates"
      ],
      "metadata": {
        "id": "0TbZ85VXK-q2"
      }
    },
    {
      "cell_type": "code",
      "source": [
        "for qubit in total_qubits:\n",
        "    circuit.append(cirq.H(qubit))\n",
        "    \n",
        "print(circuit)"
      ],
      "metadata": {
        "colab": {
          "base_uri": "https://localhost:8080/"
        },
        "id": "N7BZabb1K8zN",
        "outputId": "13aa5b0c-155e-4208-8a59-e4d15fc8a12c"
      },
      "execution_count": 13,
      "outputs": [
        {
          "output_type": "stream",
          "name": "stdout",
          "text": [
            "                  ┌──┐   ┌──┐\n",
            "0: ───H───────────────────@─────H───\n",
            "                          │\n",
            "1: ───H────────────@──────┼H────────\n",
            "                   │      │\n",
            "2: ───H───H────────┼──────┼─────────\n",
            "                   │      │\n",
            "3: ───H───H────────┼──────┼─────────\n",
            "                   │      │\n",
            "4: ───H───────@────┼H─────┼─────────\n",
            "              │    │      │\n",
            "5: ───X───H───X────X──────X─────H───\n",
            "                  └──┘   └──┘\n"
          ]
        }
      ]
    },
    {
      "cell_type": "markdown",
      "source": [
        "**Creating the whole circuit from scratch, using moments**"
      ],
      "metadata": {
        "id": "Bn_wJvYBLG0J"
      }
    },
    {
      "cell_type": "code",
      "source": [
        "\n",
        "# Initializing 6 qubits\n",
        "total_qubits = cirq.LineQubit.range(6)\n",
        "\n",
        "# Changing the state of the last qubit from 0 to 1\n",
        "first_moment = cirq.Moment(cirq.X(total_qubits[5]))\n",
        "\n",
        "# Applying the Hadamard gates on each qubits\n",
        "second_moment = cirq.Moment(cirq.H.on_each(total_qubits))\n",
        "\n",
        "# Creating an empty circuit\n",
        "circuit = cirq.Circuit()\n",
        "\n",
        "# Appending first moment to the circuit\n",
        "circuit.append(first_moment)\n",
        "\n",
        "# Appending second moment to the circuit\n",
        "circuit.append(second_moment)\n",
        "\n",
        "# Appending CNOT gates\n",
        "circuit.append(cirq.CNOT(total_qubits[4], total_qubits[5]))\n",
        "circuit.append(cirq.CNOT(total_qubits[1], total_qubits[5]))\n",
        "circuit.append(cirq.CNOT(total_qubits[0], total_qubits[5]))\n",
        "\n",
        "# Applying the final Hadamard gates\n",
        "\n",
        "circuit.append(second_moment)\n",
        "\n",
        "print(circuit)\n"
      ],
      "metadata": {
        "colab": {
          "base_uri": "https://localhost:8080/"
        },
        "id": "PAKKboX5LEWv",
        "outputId": "7d5a9877-5d81-4ea9-e4ae-27fcf60ffff7"
      },
      "execution_count": 14,
      "outputs": [
        {
          "output_type": "stream",
          "name": "stdout",
          "text": [
            "0: ───────H───────────@───H───\n",
            "                      │\n",
            "1: ───────H───────@───┼───H───\n",
            "                  │   │\n",
            "2: ───────H───────┼───┼───H───\n",
            "                  │   │\n",
            "3: ───────H───────┼───┼───H───\n",
            "                  │   │\n",
            "4: ───────H───@───┼───┼───H───\n",
            "              │   │   │\n",
            "5: ───X───H───X───X───X───H───\n"
          ]
        }
      ]
    },
    {
      "cell_type": "markdown",
      "source": [
        "**Simulating a quantum computer**"
      ],
      "metadata": {
        "id": "KWk59sjTLmWS"
      }
    },
    {
      "cell_type": "code",
      "source": [
        "# Before starting the simulation, we need to insert measurements at # the end of our quantum circuits\n",
        "measurement_gates = cirq.Moment([cirq.measure(qubit) for qubit in total_qubits])\n",
        "\n",
        "# Append it to the circuit\n",
        "circuit.append(measurement_gates)\n",
        "\n",
        "# Initializing the quantum simulator\n",
        "quantum_simulator = cirq.Simulator()\n",
        "\n",
        "# Running the circuit on the simulator\n",
        "results = quantum_simulator.run(circuit)\n",
        "\n",
        "print(results)"
      ],
      "metadata": {
        "colab": {
          "base_uri": "https://localhost:8080/"
        },
        "id": "b1NLh-DCLT3V",
        "outputId": "195d7d38-4c4e-46ef-fb15-84869b3fe4cd"
      },
      "execution_count": 16,
      "outputs": [
        {
          "output_type": "stream",
          "name": "stdout",
          "text": [
            "q(0)=1\n",
            "q(1)=1\n",
            "q(2)=0\n",
            "q(3)=0\n",
            "q(4)=1\n",
            "q(5)=1\n"
          ]
        }
      ]
    },
    {
      "cell_type": "code",
      "source": [],
      "metadata": {
        "id": "_VaNdGJeLt5t"
      },
      "execution_count": null,
      "outputs": []
    }
  ]
}